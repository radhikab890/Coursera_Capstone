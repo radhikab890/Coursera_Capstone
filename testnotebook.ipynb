#this notebook is mainly for capstone project
import pandas as pd
import numpy as np
print('Hello, welcome to capstone project')
